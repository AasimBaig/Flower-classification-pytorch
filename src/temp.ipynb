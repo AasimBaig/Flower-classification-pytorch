{
 "cells": [
  {
   "cell_type": "code",
   "execution_count": 7,
   "metadata": {},
   "outputs": [],
   "source": [
    "import os\n",
    "from sklearn.preprocessing import LabelEncoder\n",
    "import pandas as pd\n",
    "from shutil import copyfile"
   ]
  },
  {
   "cell_type": "code",
   "execution_count": 8,
   "metadata": {},
   "outputs": [],
   "source": [
    "INITIAL_DATA_DIRECTORY = \"/media/aasim/383C03243C02DD2E/Kaggle_Comp/flower-classification/input/flowers\"\n",
    "DATA_DIRECTORY = \"flower\"\n",
    "labels = []\n",
    "labelencoder = LabelEncoder()\n",
    "labelencoder.fit(os.listdir(INITIAL_DATA_DIRECTORY))\n",
    "if not os.path.exists(DATA_DIRECTORY): os.makedirs(DATA_DIRECTORY)\n",
    "for item in os.listdir(INITIAL_DATA_DIRECTORY):\n",
    "    if item != \"flowers\":\n",
    "        for element in os.listdir(INITIAL_DATA_DIRECTORY + \"/\" + item):\n",
    "          if \".py\" not in element:\n",
    "            if not os.path.exists(DATA_DIRECTORY[0:] +  \"/\" + element):\n",
    "                copyfile(INITIAL_DATA_DIRECTORY[0:] + \"/\" + item + \"/\" + element, DATA_DIRECTORY[0:] +  \"/\" + element)\n",
    "            labels.append((element, labelencoder.transform([item]).tolist()[0]))\n",
    "df = pd.DataFrame(data=labels,columns=['id', 'label']).sample(frac=1).reset_index(drop=True)"
   ]
  },
  {
   "cell_type": "code",
   "execution_count": 9,
   "metadata": {},
   "outputs": [
    {
     "data": {
      "text/html": [
       "<div>\n",
       "<style scoped>\n",
       "    .dataframe tbody tr th:only-of-type {\n",
       "        vertical-align: middle;\n",
       "    }\n",
       "\n",
       "    .dataframe tbody tr th {\n",
       "        vertical-align: top;\n",
       "    }\n",
       "\n",
       "    .dataframe thead th {\n",
       "        text-align: right;\n",
       "    }\n",
       "</style>\n",
       "<table border=\"1\" class=\"dataframe\">\n",
       "  <thead>\n",
       "    <tr style=\"text-align: right;\">\n",
       "      <th></th>\n",
       "      <th>id</th>\n",
       "      <th>label</th>\n",
       "    </tr>\n",
       "  </thead>\n",
       "  <tbody>\n",
       "    <tr>\n",
       "      <th>0</th>\n",
       "      <td>13903946578_187f904c9a_n.jpg</td>\n",
       "      <td>4</td>\n",
       "    </tr>\n",
       "    <tr>\n",
       "      <th>1</th>\n",
       "      <td>7481204112_e3c57dd40a_n.jpg</td>\n",
       "      <td>4</td>\n",
       "    </tr>\n",
       "    <tr>\n",
       "      <th>2</th>\n",
       "      <td>2254152047_d3bf8903cd_n.jpg</td>\n",
       "      <td>4</td>\n",
       "    </tr>\n",
       "    <tr>\n",
       "      <th>3</th>\n",
       "      <td>5979669004_d9736206c9_n.jpg</td>\n",
       "      <td>3</td>\n",
       "    </tr>\n",
       "    <tr>\n",
       "      <th>4</th>\n",
       "      <td>215798357_3f4bfa27b7.jpg</td>\n",
       "      <td>3</td>\n",
       "    </tr>\n",
       "  </tbody>\n",
       "</table>\n",
       "</div>"
      ],
      "text/plain": [
       "                             id  label\n",
       "0  13903946578_187f904c9a_n.jpg      4\n",
       "1   7481204112_e3c57dd40a_n.jpg      4\n",
       "2   2254152047_d3bf8903cd_n.jpg      4\n",
       "3   5979669004_d9736206c9_n.jpg      3\n",
       "4      215798357_3f4bfa27b7.jpg      3"
      ]
     },
     "execution_count": 9,
     "metadata": {},
     "output_type": "execute_result"
    }
   ],
   "source": [
    "df.head()"
   ]
  },
  {
   "cell_type": "code",
   "execution_count": 20,
   "metadata": {},
   "outputs": [],
   "source": [
    "import numpy as np\n",
    "import glob\n",
    "flowers_path = \"/media/aasim/383C03243C02DD2E/Kaggle_Comp/flower-classification/input/flowers\"\n",
    "subfolders = [f.path for f in os.scandir(flowers_path) if f.is_dir()]\n",
    "image_paths = []\n",
    "for x in subfolders:\n",
    "    image_paths.extend(glob.glob(os.path.join(x, \"*.jpg\")))\n",
    "    target = [x.split(\"/\")[-2] for x in image_paths]\n",
    "\n",
    "lb_enc = LabelEncoder()\n",
    "target_enc = lb_enc.fit_transform(target)\n",
    "target_enc = np.array(target_enc)\n",
    "\n",
    "df2 = pd.DataFrame({\"image_paths\":image_paths[:], \"targets\":target_enc[:]}).sample(frac=1).reset_index(drop=True)\n",
    "df2.to_csv(\"flower_detection.csv\")"
   ]
  },
  {
   "cell_type": "code",
   "execution_count": 12,
   "metadata": {},
   "outputs": [
    {
     "data": {
      "text/html": [
       "<div>\n",
       "<style scoped>\n",
       "    .dataframe tbody tr th:only-of-type {\n",
       "        vertical-align: middle;\n",
       "    }\n",
       "\n",
       "    .dataframe tbody tr th {\n",
       "        vertical-align: top;\n",
       "    }\n",
       "\n",
       "    .dataframe thead th {\n",
       "        text-align: right;\n",
       "    }\n",
       "</style>\n",
       "<table border=\"1\" class=\"dataframe\">\n",
       "  <thead>\n",
       "    <tr style=\"text-align: right;\">\n",
       "      <th></th>\n",
       "      <th>image_paths</th>\n",
       "      <th>targets</th>\n",
       "    </tr>\n",
       "  </thead>\n",
       "  <tbody>\n",
       "    <tr>\n",
       "      <th>0</th>\n",
       "      <td>/media/aasim/383C03243C02DD2E/Kaggle_Comp/flow...</td>\n",
       "      <td>0</td>\n",
       "    </tr>\n",
       "    <tr>\n",
       "      <th>1</th>\n",
       "      <td>/media/aasim/383C03243C02DD2E/Kaggle_Comp/flow...</td>\n",
       "      <td>3</td>\n",
       "    </tr>\n",
       "    <tr>\n",
       "      <th>2</th>\n",
       "      <td>/media/aasim/383C03243C02DD2E/Kaggle_Comp/flow...</td>\n",
       "      <td>4</td>\n",
       "    </tr>\n",
       "    <tr>\n",
       "      <th>3</th>\n",
       "      <td>/media/aasim/383C03243C02DD2E/Kaggle_Comp/flow...</td>\n",
       "      <td>4</td>\n",
       "    </tr>\n",
       "    <tr>\n",
       "      <th>4</th>\n",
       "      <td>/media/aasim/383C03243C02DD2E/Kaggle_Comp/flow...</td>\n",
       "      <td>4</td>\n",
       "    </tr>\n",
       "  </tbody>\n",
       "</table>\n",
       "</div>"
      ],
      "text/plain": [
       "                                         image_paths  targets\n",
       "0  /media/aasim/383C03243C02DD2E/Kaggle_Comp/flow...        0\n",
       "1  /media/aasim/383C03243C02DD2E/Kaggle_Comp/flow...        3\n",
       "2  /media/aasim/383C03243C02DD2E/Kaggle_Comp/flow...        4\n",
       "3  /media/aasim/383C03243C02DD2E/Kaggle_Comp/flow...        4\n",
       "4  /media/aasim/383C03243C02DD2E/Kaggle_Comp/flow...        4"
      ]
     },
     "execution_count": 12,
     "metadata": {},
     "output_type": "execute_result"
    }
   ],
   "source": [
    "df2.head()"
   ]
  },
  {
   "cell_type": "code",
   "execution_count": 13,
   "metadata": {},
   "outputs": [
    {
     "data": {
      "text/plain": [
       "4323"
      ]
     },
     "execution_count": 13,
     "metadata": {},
     "output_type": "execute_result"
    }
   ],
   "source": [
    "len(df2)"
   ]
  },
  {
   "cell_type": "code",
   "execution_count": 16,
   "metadata": {},
   "outputs": [],
   "source": [
    "import seaborn as sns"
   ]
  },
  {
   "cell_type": "code",
   "execution_count": 17,
   "metadata": {},
   "outputs": [
    {
     "data": {
      "text/plain": [
       "<matplotlib.axes._subplots.AxesSubplot at 0x7ff58a271130>"
      ]
     },
     "execution_count": 17,
     "metadata": {},
     "output_type": "execute_result"
    },
    {
     "data": {
      "image/png": "[encoded data removed]",
      "text/plain": [
       "<Figure size 432x288 with 1 Axes>"
      ]
     },
     "metadata": {
      "needs_background": "light"
     },
     "output_type": "display_data"
    }
   ],
   "source": [
    "sns.countplot(df2[\"targets\"])"
   ]
  },
  {
   "cell_type": "code",
   "execution_count": 19,
   "metadata": {},
   "outputs": [
    {
     "data": {
      "text/plain": [
       "<matplotlib.axes._subplots.AxesSubplot at 0x7ff589a5a790>"
      ]
     },
     "execution_count": 19,
     "metadata": {},
     "output_type": "execute_result"
    },
    {
     "data": {
      "image/png": "[encoded data removed]",
      "text/plain": [
       "<Figure size 432x288 with 1 Axes>"
      ]
     },
     "metadata": {
      "needs_background": "light"
     },
     "output_type": "display_data"
    }
   ],
   "source": [
    "sns.countplot(df[\"label\"])"
   ]
  },
  {
   "cell_type": "code",
   "execution_count": null,
   "metadata": {},
   "outputs": [],
   "source": []
  }
 ],
 "metadata": {
  "kernelspec": {
   "display_name": "Python 3.8.3 64-bit",
   "language": "python",
   "name": "python38364bit6146e2d84d1243c5bcf7241566d2f9f9"
  },
  "language_info": {
   "codemirror_mode": {
    "name": "ipython",
    "version": 3
   },
   "file_extension": ".py",
   "mimetype": "text/x-python",
   "name": "python",
   "nbconvert_exporter": "python",
   "pygments_lexer": "ipython3",
   "version": "3.8.3"
  }
 },
 "nbformat": 4,
 "nbformat_minor": 4
}
